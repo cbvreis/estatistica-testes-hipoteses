{
 "cells": [
  {
   "cell_type": "code",
   "execution_count": 3,
   "metadata": {},
   "outputs": [],
   "source": [
    "import pandas as pd\n",
    "import numpy as np\n",
    "import statsmodels.api as sm\n",
    "import scipy.stats as sct\n",
    "import matplotlib.pyplot as plt\n",
    "import seaborn as sns\n",
    "import warnings\n",
    "warnings.filterwarnings('ignore')"
   ]
  },
  {
   "cell_type": "markdown",
   "metadata": {},
   "source": [
    "## Shapiro - Wilk"
   ]
  },
  {
   "cell_type": "markdown",
   "metadata": {},
   "source": [
    "The null-hypothesis of this test is that the population is normally distributed. Thus, if the p value is less than the chosen alpha level, then the null hypothesis is rejected and there is evidence that the data tested are not normally distributed. On the other hand, if the p value is greater than the chosen alpha level, then the null hypothesis (that the data came from a normally distributed population) can not be rejected (e.g., for an alpha level of .05, a data set with a p value of less than .05 rejects the null hypothesis that the data are from a normally distributed population).\n",
    "\n",
    "Like most statistical significance tests, if the sample size is not sufficiently large this test may detect even trivial departures from the null hypothesis (i.e., although there may be some statistically significant effect, it may be too small to be of any practical significance); thus, additional investigation of the effect size is typically advisable, e.g., a Q–Q plot in this case."
   ]
  },
  {
   "cell_type": "code",
   "execution_count": 4,
   "metadata": {},
   "outputs": [
    {
     "name": "stdout",
     "output_type": "stream",
     "text": [
      "ShapiroResult(statistic=0.9973689913749695, pvalue=0.1048964262008667)\n",
      "ShapiroResult(statistic=0.816177487373352, pvalue=2.7701614648137593e-32)\n",
      "ShapiroResult(statistic=0.8317874073982239, pvalue=3.660057061638371e-31)\n",
      "ShapiroResult(statistic=0.9577564001083374, pvalue=2.1665533132834622e-16)\n",
      "The null hypothesis can be rejected\n"
     ]
    }
   ],
   "source": [
    "normal_data = sct.norm.rvs(loc=10, scale=4, size=1000)\n",
    "non_normal_data = sct.weibull_max.rvs(c=1,loc=10, scale=4, size=1000)\n",
    "expon_data = sct.expon.rvs(loc=10, scale=4, size=1000)\n",
    "a = np.random.randint(-33,450, 1000)\n",
    "\n",
    "\n",
    "print(sct.shapiro(normal_data))\n",
    "print(sct.shapiro(expon_data))\n",
    "print(sct.shapiro(non_normal_data))\n",
    "print(sct.shapiro(a))\n",
    "\n",
    "alpha = 1e-3\n",
    "k1, p = sct.shapiro(expon_data)\n",
    "if  p <alpha:\n",
    "    print(\"The null hypothesis can be rejected\")\n",
    "else:\n",
    "    print(\"The null hypothesis cannot be rejected\")"
   ]
  },
  {
   "cell_type": "markdown",
   "metadata": {},
   "source": [
    "## Jarque-Bera"
   ]
  },
  {
   "cell_type": "markdown",
   "metadata": {},
   "source": [
    "In statistics, the Jarque–Bera test is a goodness-of-fit test of whether sample data have the skewness and kurtosis matching a normal distribution. The test is named after Carlos Jarque and Anil K. Bera. The test statistic is always nonnegative. If it is far from zero, it signals the data do not have a normal distribution.\n",
    "\n",
    "If the data comes from a normal distribution, the JB statistic asymptotically has a chi-squared distribution with two degrees of freedom, so the statistic can be used to test the hypothesis that the data are from a normal distribution. The null hypothesis is a joint hypothesis of the skewness being zero and the excess kurtosis being zero. Samples from a normal distribution have an expected skewness of 0 and an expected excess kurtosis of 0 (which is the same as a kurtosis of 3). As the definition of JB shows, any deviation from this increases the JB statistic.\n",
    "\n",
    "For small samples the chi-squared approximation is overly sensitive, often rejecting the null hypothesis when it is true. Furthermore, the distribution of p-values departs from a uniform distribution and becomes a right-skewed unimodal distribution, especially for small p-values. This leads to a large Type I error rate. The table below shows some p-values approximated by a chi-squared distribution that differ from their true alpha levels for small samples."
   ]
  },
  {
   "cell_type": "code",
   "execution_count": 5,
   "metadata": {},
   "outputs": [
    {
     "name": "stdout",
     "output_type": "stream",
     "text": [
      "Jarque_beraResult(statistic=1.038695953711781, pvalue=0.5949083155300936)\n",
      "Jarque_beraResult(statistic=21398.67375924436, pvalue=0.0)\n",
      "Jarque_beraResult(statistic=597.2584858884798, pvalue=0.0)\n",
      "The null hypothesis can be rejected\n"
     ]
    }
   ],
   "source": [
    "normal_data = sct.norm.rvs(loc=10, scale=4, size=10000)\n",
    "non_normal_data = sct.weibull_max.rvs(c=1,loc=10, scale=4, size=10000)\n",
    "a = np.random.randint(-33,450, 10000)\n",
    "\n",
    "print(sct.jarque_bera(normal_data))\n",
    "print(sct.jarque_bera(non_normal_data))\n",
    "print(sct.jarque_bera(a))\n",
    "\n",
    "\n",
    "alpha = 1e-3\n",
    "k1, p = sct.jarque_bera(non_normal_data)\n",
    "if  p <alpha:\n",
    "    print(\"The null hypothesis can be rejected\")\n",
    "else:\n",
    "    print(\"The null hypothesis cannot be rejected\")"
   ]
  },
  {
   "cell_type": "markdown",
   "metadata": {},
   "source": [
    "## Normal Tests - D'agostino and Persons"
   ]
  },
  {
   "cell_type": "code",
   "execution_count": 6,
   "metadata": {},
   "outputs": [
    {
     "name": "stdout",
     "output_type": "stream",
     "text": [
      "NormaltestResult(statistic=0.6951604972850175, pvalue=0.7063953243891078)\n",
      "NormaltestResult(statistic=413.0098761477749, pvalue=2.0703554252900724e-90)\n",
      "NormaltestResult(statistic=1259.7256748341224, pvalue=2.844758173127245e-274)\n",
      "The null hypothesis can be rejected\n"
     ]
    }
   ],
   "source": [
    "normal_data = sct.norm.rvs(loc=10, scale=4, size=1000)\n",
    "non_normal_data = sct.weibull_max.rvs(c=1,loc=10, scale=4, size=1000)\n",
    "a = np.random.randint(-33,450, 1000)\n",
    "\n",
    "print(sct.normaltest(normal_data))\n",
    "print(sct.normaltest(non_normal_data))\n",
    "print(sct.normaltest(a))\n",
    "\n",
    "\n",
    "alpha = 1e-3\n",
    "k1, p = sct.normaltest(non_normal_data)\n",
    "if  p <alpha:\n",
    "    print(\"The null hypothesis can be rejected\")\n",
    "else:\n",
    "    print(\"The null hypothesis cannot be rejected\")"
   ]
  },
  {
   "cell_type": "markdown",
   "metadata": {},
   "source": [
    "## Anderson-Darling Normality Test"
   ]
  },
  {
   "cell_type": "code",
   "execution_count": 7,
   "metadata": {},
   "outputs": [],
   "source": [
    "def anderson_normality_test(data: np.ndarray, dist: str)-> None:\n",
    "    result = sct.anderson(data, dist=dist)\n",
    "    print(f'Statistic: {np.round(result.statistic,3)}')\n",
    "    for i in range(len(result.critical_values)):\n",
    "        sig_lev, crit_val = result.significance_level[i] , result.critical_values[i]\n",
    "        if  result.statistic <crit_val:\n",
    "            print(f\"Probably {dist} critical value at {sig_lev} level of significance\")\n",
    "        else:\n",
    "             print(f\"Probably not {dist} critical value at {sig_lev} level of significance\")"
   ]
  },
  {
   "cell_type": "code",
   "execution_count": 8,
   "metadata": {},
   "outputs": [
    {
     "name": "stdout",
     "output_type": "stream",
     "text": [
      "Statistic: inf\n",
      "Probably not expon critical value at 15.0 level of significance\n",
      "Probably not expon critical value at 10.0 level of significance\n",
      "Probably not expon critical value at 5.0 level of significance\n",
      "Probably not expon critical value at 2.5 level of significance\n",
      "Probably not expon critical value at 1.0 level of significance\n"
     ]
    }
   ],
   "source": [
    "normal_data  = sct.norm.rvs(loc=10, scale=4, size=1000)\n",
    "#non_normal_data = sct.weibull_max.rvs(c=1,loc=10, scale=4, size=1000)\n",
    "#expon_data = sct.expon.rvs(loc=10, scale=4, size=1000)\n",
    "#a = np.random.randint(-33,450, 1000)\n",
    "anderson_normality_test(normal_data, 'expon')\n"
   ]
  },
  {
   "cell_type": "markdown",
   "metadata": {},
   "source": [
    "####  Critical values provided are for the following significance levels:\n",
    "\n",
    "#### normal/exponential\n",
    "15%, 10%, 5%, 2.5%, 1%\n",
    "#### logistic\n",
    "25%, 10%, 5%, 2.5%, 1%, 0.5%\n",
    "#### Gumbel\n",
    "25%, 10%, 5%, 2.5%, 1%\n",
    "\n",
    "If the returned statistic is larger than these critical values then for the corresponding significance level, the null hypothesis that the data come from the chosen distribution can be rejected. The returned statistic is referred to as ‘A2’ in the references."
   ]
  },
  {
   "cell_type": "markdown",
   "metadata": {},
   "source": [
    "\n",
    "## ChiSquare"
   ]
  },
  {
   "cell_type": "markdown",
   "metadata": {},
   "source": [
    "#### The Chi Square Test for Normality can only be used if:\n",
    "\n",
    "- Your expected value for the number of sample observations for each level is greater than 5\n",
    "- Your data is randomly sampled\n",
    "- The variable you are studying is categorical.\n",
    "- If your variable is continuous, you will need to bin the data before using the chi-square test for normality."
   ]
  },
  {
   "cell_type": "code",
   "execution_count": 9,
   "metadata": {},
   "outputs": [
    {
     "name": "stdout",
     "output_type": "stream",
     "text": [
      "The null hypothesis can be rejected  2834.991, 0.0\n"
     ]
    }
   ],
   "source": [
    "alpha = 1e-3\n",
    "normal_data  = sct.norm.rvs(loc=10, scale=4, size=1000)\n",
    "non_normal_data = sct.weibull_max.rvs(c=1,loc=10, scale=4, size=1000)\n",
    "expon_data = sct.expon.rvs(loc=10, scale=4, size=1000)\n",
    "k1, p = sct.chisquare(non_normal_data)\n",
    "if  p <alpha:\n",
    "    print(f\"The null hypothesis can be rejected  {np.round(k1,3)}, {np.round(p,5)}\")\n",
    "else:\n",
    "    print(f\"The null hypothesis cannot be rejected {k1}, {p}\")"
   ]
  },
  {
   "cell_type": "markdown",
   "metadata": {},
   "source": [
    "## QQ Plot para dados Normais"
   ]
  },
  {
   "cell_type": "code",
   "execution_count": 10,
   "metadata": {},
   "outputs": [
    {
     "data": {
      "image/png": "[encoded data removed]",
      "text/plain": [
       "<Figure size 432x288 with 1 Axes>"
      ]
     },
     "execution_count": 10,
     "metadata": {},
     "output_type": "execute_result"
    },
    {
     "data": {
      "image/png": "[encoded data removed]",
      "text/plain": [
       "<Figure size 432x288 with 1 Axes>"
      ]
     },
     "metadata": {
      "needs_background": "light"
     },
     "output_type": "display_data"
    }
   ],
   "source": [
    "normal_data = sct.norm.rvs(loc=10, scale=4, size=1000)\n",
    "sm.qqplot(normal_data, fit= True, line='45')"
   ]
  },
  {
   "cell_type": "code",
   "execution_count": 11,
   "metadata": {},
   "outputs": [
    {
     "data": {
      "image/png": "[encoded data removed]",
      "text/plain": [
       "<Figure size 432x288 with 1 Axes>"
      ]
     },
     "execution_count": 11,
     "metadata": {},
     "output_type": "execute_result"
    },
    {
     "data": {
      "image/png": "[encoded data removed]",
      "text/plain": [
       "<Figure size 432x288 with 1 Axes>"
      ]
     },
     "metadata": {
      "needs_background": "light"
     },
     "output_type": "display_data"
    }
   ],
   "source": [
    "non_normal_data = sct.weibull_max.rvs(c=1,loc=10, scale=4, size=1000)\n",
    "sm.qqplot(non_normal_data, fit= True, line='45')"
   ]
  },
  {
   "cell_type": "code",
   "execution_count": 12,
   "metadata": {},
   "outputs": [
    {
     "data": {
      "image/png": "[encoded data removed]",
      "text/plain": [
       "<Figure size 432x288 with 1 Axes>"
      ]
     },
     "execution_count": 12,
     "metadata": {},
     "output_type": "execute_result"
    },
    {
     "data": {
      "image/png": "[encoded data removed]",
      "text/plain": [
       "<Figure size 432x288 with 1 Axes>"
      ]
     },
     "metadata": {
      "needs_background": "light"
     },
     "output_type": "display_data"
    }
   ],
   "source": [
    "##Gerando amostra aleatoria numpy\n",
    "a = np.random.randint(-33,450, 1000)\n",
    "sm.qqplot(a, fit= True, line='45')\n"
   ]
  },
  {
   "cell_type": "markdown",
   "metadata": {},
   "source": [
    "## Testes de hipotéses"
   ]
  },
  {
   "cell_type": "markdown",
   "metadata": {},
   "source": [
    "Bootstrapping is any test or metric that uses random sampling with replacement (e.g. mimicking the sampling process), and falls under the broader class of resampling methods. Bootstrapping assigns measures of accuracy (bias, variance, confidence intervals, prediction error, etc.) to sample estimates. This technique allows estimation of the sampling distribution of almost any statistic using random sampling methods.]\n",
    "\n",
    "Bootstrapping estimates the properties of an estimator (such as its variance) by measuring those properties when sampling from an approximating distribution. One standard choice for an approximating distribution is the empirical distribution function of the observed data. In the case where a set of observations can be assumed to be from an independent and identically distributed population, this can be implemented by constructing a number of resamples with replacement, of the observed data set (and of equal size to the observed data set).\n",
    "\n",
    "It may also be used for constructing hypothesis tests. It is often used as an alternative to statistical inference based on the assumption of a parametric model when that assumption is in doubt, or where parametric inference is impossible or requires complicated formulas for the calculation of standard errors."
   ]
  },
  {
   "cell_type": "code",
   "execution_count": 13,
   "metadata": {},
   "outputs": [],
   "source": [
    "def permuted_iid_samples(data1: np.ndarray, data2: np.ndarray) -> tuple:\n",
    "    '''\n",
    "        Função usada para permutar os dados, normalmente estamos trabalhando com hipoteses de que as duas amostras são iguais. \n",
    "        \n",
    "    '''\n",
    "    data = np.concatenate((data1, data2))\n",
    "    permuted_data = np.random.permutation(data)\n",
    "    permuted_sample_1 = permuted_data[:len(data1)]\n",
    "    permuted_sample_2 = permuted_data[len(data1):]\n",
    "    \n",
    "    return permuted_sample_1, permuted_sample_2\n",
    "       \n",
    "    "
   ]
  },
  {
   "cell_type": "code",
   "execution_count": 14,
   "metadata": {},
   "outputs": [],
   "source": [
    "b = np.random.randint(150,350,1000)\n",
    "a=  np.random.randint(222,350,1000)"
   ]
  },
  {
   "cell_type": "code",
   "execution_count": 15,
   "metadata": {},
   "outputs": [],
   "source": [
    "def sample_replicates(data1: np.ndarray, data2: np.ndarray, function, size=1) -> list:\n",
    "    '''\n",
    "    \n",
    "    '''\n",
    "    permuted_replicates = np.empty(size)\n",
    "    for i in range(size):\n",
    "        perm_sample1, perm_sample2 = permuted_iid_samples(data1, data2)\n",
    "        permuted_replicates[i] = function(perm_sample1, perm_sample2)\n",
    "    \n",
    "    return permuted_replicates"
   ]
  },
  {
   "cell_type": "code",
   "execution_count": 16,
   "metadata": {},
   "outputs": [],
   "source": [
    "def means_diff(data1: np.ndarray, data2: np.ndarray) -> float:\n",
    "    '''\n",
    "        Retorna a diferença entre as médias de duas amostras\n",
    "    '''\n",
    "    return np.mean(data1) - np.mean(data2)"
   ]
  },
  {
   "cell_type": "code",
   "execution_count": 17,
   "metadata": {},
   "outputs": [],
   "source": [
    "n_bootstrap = 100000\n",
    "replicates = sample_replicates(a,b, means_diff,n_bootstrap)\n",
    "empirical = means_diff(a,b)"
   ]
  },
  {
   "cell_type": "code",
   "execution_count": 18,
   "metadata": {},
   "outputs": [
    {
     "name": "stdout",
     "output_type": "stream",
     "text": [
      "The p-value  for the test-statistic of 36.58 is 0.000\n"
     ]
    }
   ],
   "source": [
    "p = np.sum(replicates >= empirical)/len(replicates)\n",
    "print(f'The p-value  for the test-statistic of {empirical:.2f} is {p:.3f}')"
   ]
  },
  {
   "cell_type": "code",
   "execution_count": 19,
   "metadata": {},
   "outputs": [
    {
     "name": "stdout",
     "output_type": "stream",
     "text": [
      "Confidence interval is [-4.506  4.552]\n"
     ]
    }
   ],
   "source": [
    "confidence_interval = np.percentile(replicates,[2.5,97.5])\n",
    "print(f'Confidence interval is {confidence_interval}')"
   ]
  },
  {
   "cell_type": "code",
   "execution_count": 21,
   "metadata": {},
   "outputs": [
    {
     "data": {
      "image/png": "[encoded data removed]",
      "text/plain": [
       "<Figure size 432x288 with 1 Axes>"
      ]
     },
     "metadata": {
      "needs_background": "light"
     },
     "output_type": "display_data"
    }
   ],
   "source": [
    "ax = sns.distplot(replicates)\n",
    "ax.axvline(confidence_interval[0],color = 'green')\n",
    "ax.axvline(confidence_interval[0],color = 'green')\n",
    "ax.axvline(confidence_interval[1],color = 'green')\n",
    "ax.axvspan(confidence_interval[0],confidence_interval[1], color='green', alpha=0.1)\n",
    "ax = sns.scatterplot(x=np.array([empirical]),y=0.020, s=100)\n"
   ]
  },
  {
   "cell_type": "markdown",
   "metadata": {},
   "source": [
    "## Test T"
   ]
  },
  {
   "cell_type": "markdown",
   "metadata": {},
   "source": [
    "Calculate the T-test for the means of two independent samples of scores.\n",
    "\n",
    "This is a two-sided test for the null hypothesis that 2 independent samples have identical average (expected) values. This test assumes that the populations have identical variances by default."
   ]
  },
  {
   "cell_type": "code",
   "execution_count": 28,
   "metadata": {},
   "outputs": [
    {
     "name": "stdout",
     "output_type": "stream",
     "text": [
      "The null hypothesis can be rejected. Statics: 4.514, p-value: 1e-05\n"
     ]
    }
   ],
   "source": [
    "b = np.random.randint(200,350,1000)\n",
    "a=  np.random.randint(222,350,1000)\n",
    "\n",
    "alpha = 1e-3\n",
    "k1, p = sct.ttest_ind(a,b)\n",
    "if  p <alpha:\n",
    "    print(f\"The null hypothesis can be rejected. Statics: {np.round(k1,3)}, p-value: {np.round(p,5)}\")\n",
    "else:\n",
    "    print(f\"The null hypothesis cannot be rejected., Statics {k1}, p-value: {p}\")\n"
   ]
  },
  {
   "cell_type": "markdown",
   "metadata": {},
   "source": [
    "## Binomial Test"
   ]
  },
  {
   "cell_type": "code",
   "execution_count": 60,
   "metadata": {},
   "outputs": [
    {
     "name": "stdout",
     "output_type": "stream",
     "text": [
      "The null hypothesis cannot be rejected. p-value: 0.18406106910639114\n"
     ]
    }
   ],
   "source": [
    "#A car manufacturer claims that no more than 10% of their cars are unsafe. 15 cars are inspected for safety, 3 were found to be unsafe. Test the manufacturer’s claim:\n",
    "#alternative: {‘two-sided’, ‘greater’, ‘less’}\n",
    "p = sct.binom_test(x=3 , n=15, p=0.1, alternative='greater')\n",
    "\n",
    "if  p <0.05:\n",
    "    print(f\"The null hypothesis can be rejected.  p-value: {np.round(p,5)}\")\n",
    "else:\n",
    "    print(f\"The null hypothesis cannot be rejected. p-value: {p}\")\n"
   ]
  },
  {
   "cell_type": "markdown",
   "metadata": {},
   "source": [
    "## Wilcoxon Signed-Rank Test\n"
   ]
  },
  {
   "cell_type": "markdown",
   "metadata": {},
   "source": [
    "Tests whether the distributions of two paired samples are equal or not.\n",
    "\n",
    "Assumptions\n",
    "\n",
    "- Observations in each sample are independent and identically distributed (iid).\n",
    "- Observations in each sample can be ranked.\n",
    "- Observations across each sample are paired.\n",
    "\n",
    "Interpretation\n",
    "\n",
    "- H0: the distributions of both samples are equal.\n",
    "- H1: the distributions of both samples are not equal."
   ]
  },
  {
   "cell_type": "code",
   "execution_count": 69,
   "metadata": {},
   "outputs": [
    {
     "name": "stdout",
     "output_type": "stream",
     "text": [
      "The null hypothesis cannot be rejected., Statics 245512.0, p-value: 0.9773388290072095\n"
     ]
    }
   ],
   "source": [
    "b = np.random.randint(225,350,1000)\n",
    "a=  np.random.randint(222,350,1000)\n",
    "\n",
    "alpha = 0.05\n",
    "k1, p = sct.wilcoxon(a,b)\n",
    "if  p <alpha:\n",
    "    print(f\"The null hypothesis can be rejected. Statics: {np.round(k1,3)}, p-value: {np.round(p,5)}\")\n",
    "else:\n",
    "    print(f\"The null hypothesis cannot be rejected., Statics {k1}, p-value: {p}\")\n"
   ]
  },
  {
   "cell_type": "markdown",
   "metadata": {},
   "source": [
    "## Paired Student’s t-test"
   ]
  },
  {
   "cell_type": "markdown",
   "metadata": {},
   "source": [
    "Assumptions\n",
    "\n",
    "- Observations in each sample are independent and identically distributed (iid).\n",
    "- Observations in each sample are normally distributed.\n",
    "- Observations in each sample have the same variance.\n",
    "- Observations across each sample are paired.\n",
    "\n",
    "Interpretation\n",
    "\n",
    "- H0: the means of the samples are equal.\n",
    "- H1: the means of the samples are unequal."
   ]
  },
  {
   "cell_type": "code",
   "execution_count": 75,
   "metadata": {},
   "outputs": [
    {
     "name": "stdout",
     "output_type": "stream",
     "text": [
      "[10 12 14 16 18 20 22 23 24 24] [10 11 12 13 14 15 16 17 18 19]\n",
      "The null hypothesis can be rejected. Statics: 5.46, p-value: 0.0004\n"
     ]
    }
   ],
   "source": [
    "b = np.arange(10,20,1)\n",
    "a = np.sort(np.random.randint(10,25, 10))\n",
    "print(a,b)\n",
    "alpha = 0.05\n",
    "k1, p = sct.ttest_rel(a,b)\n",
    "if  p <alpha:\n",
    "    print(f\"The null hypothesis can be rejected. Statics: {np.round(k1,3)}, p-value: {np.round(p,5)}\")\n",
    "else:\n",
    "    print(f\"The null hypothesis cannot be rejected., Statics {k1}, p-value: {p}\")"
   ]
  }
 ],
 "metadata": {
  "kernelspec": {
   "display_name": "Python 3",
   "language": "python",
   "name": "python3"
  },
  "language_info": {
   "codemirror_mode": {
    "name": "ipython",
    "version": 3
   },
   "file_extension": ".py",
   "mimetype": "text/x-python",
   "name": "python",
   "nbconvert_exporter": "python",
   "pygments_lexer": "ipython3",
   "version": "3.8.5"
  }
 },
 "nbformat": 4,
 "nbformat_minor": 4
}
