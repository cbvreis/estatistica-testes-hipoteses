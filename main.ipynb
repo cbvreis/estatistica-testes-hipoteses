{
 "cells": [
  {
   "cell_type": "code",
   "execution_count": 209,
   "metadata": {},
   "outputs": [],
   "source": [
    "import pandas as pd\n",
    "import numpy as np\n",
    "import statsmodels.api as sm\n",
    "import scipy.stats as sct\n",
    "import matplotlib.pyplot as plt\n",
    "import seaborn as sns\n",
    "import warnings\n",
    "warnings.filterwarnings('ignore')"
   ]
  },
  {
   "cell_type": "markdown",
   "metadata": {},
   "source": [
    "## Shapiro - Wilk"
   ]
  },
  {
   "cell_type": "code",
   "execution_count": 47,
   "metadata": {},
   "outputs": [
    {
     "name": "stdout",
     "output_type": "stream",
     "text": [
      "ShapiroResult(statistic=0.9983426332473755, pvalue=0.45632848143577576)\n",
      "ShapiroResult(statistic=0.7871527671813965, pvalue=3.5074946861037555e-34)\n",
      "ShapiroResult(statistic=0.8407145738601685, pvalue=1.745717820688661e-30)\n",
      "ShapiroResult(statistic=0.9513610601425171, pvalue=1.1457276182930149e-17)\n",
      "The null hypothesis can be rejected\n"
     ]
    }
   ],
   "source": [
    "normal_data = sct.norm.rvs(loc=10, scale=4, size=1000)\n",
    "non_normal_data = sct.weibull_max.rvs(c=1,loc=10, scale=4, size=1000)\n",
    "expon_data = sct.expon.rvs(loc=10, scale=4, size=1000)\n",
    "a = np.random.randint(-33,450, 1000)\n",
    "\n",
    "\n",
    "print(sct.shapiro(normal_data))\n",
    "print(sct.shapiro(expon_data))\n",
    "print(sct.shapiro(non_normal_data))\n",
    "print(sct.shapiro(a))\n",
    "\n",
    "alpha = 1e-3\n",
    "k1, p = sct.shapiro(expon_data)\n",
    "if  p <alpha:\n",
    "    print(\"The null hypothesis can be rejected\")\n",
    "else:\n",
    "    print(\"The null hypothesis cannot be rejected\")"
   ]
  },
  {
   "cell_type": "markdown",
   "metadata": {},
   "source": [
    "## Jarque-Bera"
   ]
  },
  {
   "cell_type": "code",
   "execution_count": 48,
   "metadata": {},
   "outputs": [
    {
     "name": "stdout",
     "output_type": "stream",
     "text": [
      "Jarque_beraResult(statistic=0.13299792917616862, pvalue=0.9356638846533645)\n",
      "Jarque_beraResult(statistic=21790.275193235433, pvalue=0.0)\n",
      "Jarque_beraResult(statistic=613.9694537861562, pvalue=0.0)\n",
      "The null hypothesis can be rejected\n"
     ]
    }
   ],
   "source": [
    "normal_data = sct.norm.rvs(loc=10, scale=4, size=10000)\n",
    "non_normal_data = sct.weibull_max.rvs(c=1,loc=10, scale=4, size=10000)\n",
    "a = np.random.randint(-33,450, 10000)\n",
    "\n",
    "print(sct.jarque_bera(normal_data))\n",
    "print(sct.jarque_bera(non_normal_data))\n",
    "print(sct.jarque_bera(a))\n",
    "\n",
    "\n",
    "alpha = 1e-3\n",
    "k1, p = sct.jarque_bera(non_normal_data)\n",
    "if  p <alpha:\n",
    "    print(\"The null hypothesis can be rejected\")\n",
    "else:\n",
    "    print(\"The null hypothesis cannot be rejected\")"
   ]
  },
  {
   "cell_type": "markdown",
   "metadata": {},
   "source": [
    "## Normal Tests - D'agostino and Persons"
   ]
  },
  {
   "cell_type": "code",
   "execution_count": 49,
   "metadata": {},
   "outputs": [
    {
     "name": "stdout",
     "output_type": "stream",
     "text": [
      "NormaltestResult(statistic=1.917406024432034, pvalue=0.383389815556934)\n",
      "NormaltestResult(statistic=400.4243346864975, pvalue=1.1193361062007877e-87)\n",
      "NormaltestResult(statistic=569.0719807630416, pvalue=2.6766369838032297e-124)\n",
      "The null hypothesis can be rejected\n"
     ]
    }
   ],
   "source": [
    "normal_data = sct.norm.rvs(loc=10, scale=4, size=1000)\n",
    "non_normal_data = sct.weibull_max.rvs(c=1,loc=10, scale=4, size=1000)\n",
    "a = np.random.randint(-33,450, 1000)\n",
    "\n",
    "print(sct.normaltest(normal_data))\n",
    "print(sct.normaltest(non_normal_data))\n",
    "print(sct.normaltest(a))\n",
    "\n",
    "\n",
    "alpha = 1e-3\n",
    "k1, p = sct.normaltest(non_normal_data)\n",
    "if  p <alpha:\n",
    "    print(\"The null hypothesis can be rejected\")\n",
    "else:\n",
    "    print(\"The null hypothesis cannot be rejected\")"
   ]
  },
  {
   "cell_type": "markdown",
   "metadata": {},
   "source": [
    "## Anderson-Darling Normality Test"
   ]
  },
  {
   "cell_type": "code",
   "execution_count": 68,
   "metadata": {},
   "outputs": [],
   "source": [
    "def anderson_normality_test(data: np.ndarray, dist: str)-> None:\n",
    "    result = sct.anderson(data, dist=dist)\n",
    "    print(f'Statistic: {np.round(result.statistic,3)}')\n",
    "    for i in range(len(result.critical_values)):\n",
    "        sig_lev, crit_val = result.significance_level[i] , result.critical_values[i]\n",
    "        if  result.statistic <crit_val:\n",
    "            print(f\"Probably {dist} critical value at {sig_lev} level of significance\")\n",
    "        else:\n",
    "             print(f\"Probably not {dist} critical value at {sig_lev} level of significance\")"
   ]
  },
  {
   "cell_type": "code",
   "execution_count": 75,
   "metadata": {},
   "outputs": [
    {
     "name": "stdout",
     "output_type": "stream",
     "text": [
      "Statistic: inf\n",
      "Probably not expon critical value at 15.0 level of significance\n",
      "Probably not expon critical value at 10.0 level of significance\n",
      "Probably not expon critical value at 5.0 level of significance\n",
      "Probably not expon critical value at 2.5 level of significance\n",
      "Probably not expon critical value at 1.0 level of significance\n"
     ]
    }
   ],
   "source": [
    "normal_data  = sct.norm.rvs(loc=10, scale=4, size=1000)\n",
    "#non_normal_data = sct.weibull_max.rvs(c=1,loc=10, scale=4, size=1000)\n",
    "#expon_data = sct.expon.rvs(loc=10, scale=4, size=1000)\n",
    "#a = np.random.randint(-33,450, 1000)\n",
    "anderson_normality_test(normal_data, 'expon')\n"
   ]
  },
  {
   "cell_type": "markdown",
   "metadata": {},
   "source": [
    "####  Critical values provided are for the following significance levels:\n",
    "\n",
    "#### normal/exponential\n",
    "15%, 10%, 5%, 2.5%, 1%\n",
    "#### logistic\n",
    "25%, 10%, 5%, 2.5%, 1%, 0.5%\n",
    "#### Gumbel\n",
    "25%, 10%, 5%, 2.5%, 1%\n",
    "\n",
    "If the returned statistic is larger than these critical values then for the corresponding significance level, the null hypothesis that the data come from the chosen distribution can be rejected. The returned statistic is referred to as ‘A2’ in the references."
   ]
  },
  {
   "cell_type": "markdown",
   "metadata": {},
   "source": [
    "\n",
    "## ChiSquare"
   ]
  },
  {
   "cell_type": "markdown",
   "metadata": {},
   "source": [
    "#### The Chi Square Test for Normality can only be used if:\n",
    "\n",
    "- Your expected value for the number of sample observations for each level is greater than 5\n",
    "- Your data is randomly sampled\n",
    "- The variable you are studying is categorical.\n",
    "- If your variable is continuous, you will need to bin the data before using the chi-square test for normality."
   ]
  },
  {
   "cell_type": "code",
   "execution_count": 92,
   "metadata": {},
   "outputs": [
    {
     "name": "stdout",
     "output_type": "stream",
     "text": [
      "The null hypothesis can be rejected  2964.008, 0.0\n"
     ]
    }
   ],
   "source": [
    "alpha = 1e-3\n",
    "normal_data  = sct.norm.rvs(loc=10, scale=4, size=1000)\n",
    "non_normal_data = sct.weibull_max.rvs(c=1,loc=10, scale=4, size=1000)\n",
    "expon_data = sct.expon.rvs(loc=10, scale=4, size=1000)\n",
    "k1, p = sct.chisquare(non_normal_data)\n",
    "if  p <alpha:\n",
    "    print(f\"The null hypothesis can be rejected  {np.round(k1,3)}, {np.round(p,5)}\")\n",
    "else:\n",
    "    print(f\"The null hypothesis cannot be rejected {k1}, {p}\")"
   ]
  },
  {
   "cell_type": "markdown",
   "metadata": {},
   "source": [
    "## QQ Plot para dados Normais"
   ]
  },
  {
   "cell_type": "code",
   "execution_count": null,
   "metadata": {},
   "outputs": [],
   "source": [
    "normal_data = sct.norm.rvs(loc=10, scale=4, size=1000)\n",
    "sm.qqplot(normal_data, fit= True, line='45')"
   ]
  },
  {
   "cell_type": "code",
   "execution_count": null,
   "metadata": {},
   "outputs": [],
   "source": [
    "non_normal_data = sct.weibull_max.rvs(c=1,loc=10, scale=4, size=1000)\n",
    "sm.qqplot(non_normal_data, fit= True, line='45')"
   ]
  },
  {
   "cell_type": "code",
   "execution_count": null,
   "metadata": {},
   "outputs": [],
   "source": [
    "##Gerando amostra aleatoria numpy\n",
    "a = np.random.randint(-33,450, 1000)\n",
    "sm.qqplot(a, fit= True, line='45')\n"
   ]
  },
  {
   "cell_type": "markdown",
   "metadata": {},
   "source": [
    "## Testes de hipotéses"
   ]
  },
  {
   "cell_type": "markdown",
   "metadata": {},
   "source": [
    "Em estatística, bootstrapping (ou simplesmente bootstrap, em inglês algo como \"alça de botina\") é um método de reamostragem proposto por Bradley Efron em 1979. Utiliza-se para aproximar distribuição na amostra de um levantamento estatístico. Usa-se frequentemente para aproximar o viés ou a variância de um conjunto de dados estatísticos, assim como para construir intervalos de confiança ou realizar contrastes de hipóteses sobre parâmetros de interesse. Na maior parte dos casos não pode obter-se expressões fechadas para as aproximações bootstrap e portanto é necessário obter reamostragens em um ordenador para por em prática o método. A enorme capacidade de cálculo dos computadores atuais facilita consideravelmente a aplicabilidade deste método tão custoso computacionalmente.\n",
    "\n"
   ]
  },
  {
   "cell_type": "code",
   "execution_count": 109,
   "metadata": {},
   "outputs": [],
   "source": [
    "def permuted_iid_samples(data1: np.ndarray, data2: np.ndarray) -> tuple:\n",
    "    '''\n",
    "        Função usada para permutar os dados, normalmente estamos trabalhando com hipoteses de que as duas amostras são iguais. \n",
    "        \n",
    "    '''\n",
    "    data = np.concatenate((data1, data2))\n",
    "    permuted_data = np.random.permutation(data)\n",
    "    permuted_sample_1 = permuted_data[:len(data1)]\n",
    "    permuted_sample_2 = permuted_data[len(data1):]\n",
    "    \n",
    "    return permuted_sample_1, permuted_sample_2\n",
    "       \n",
    "    "
   ]
  },
  {
   "cell_type": "code",
   "execution_count": 210,
   "metadata": {},
   "outputs": [],
   "source": [
    "b = np.random.randint(150,350,1000)\n",
    "a=  np.random.randint(222,350,1000)"
   ]
  },
  {
   "cell_type": "code",
   "execution_count": 171,
   "metadata": {},
   "outputs": [],
   "source": [
    "def sample_replicates(data1: np.ndarray, data2: np.ndarray, function, size=1) -> list:\n",
    "    '''\n",
    "    \n",
    "    '''\n",
    "    permuted_replicates = np.empty(size)\n",
    "    for i in range(size):\n",
    "        perm_sample1, perm_sample2 = permuted_iid_samples(data1, data2)\n",
    "        permuted_replicates[i] = function(perm_sample1, perm_sample2)\n",
    "    \n",
    "    return permuted_replicates"
   ]
  },
  {
   "cell_type": "code",
   "execution_count": 172,
   "metadata": {},
   "outputs": [],
   "source": [
    "def means_diff(data1: np.ndarray, data2: np.ndarray) -> float:\n",
    "    '''\n",
    "        Retorna a diferença entre as médias de duas amostras\n",
    "    '''\n",
    "    return np.mean(data1) - np.mean(data2)"
   ]
  },
  {
   "cell_type": "code",
   "execution_count": 211,
   "metadata": {},
   "outputs": [],
   "source": [
    "n_bootstrap = 100000\n",
    "replicates = sample_replicates(a,b, means_diff,n_bootstrap)\n",
    "empirical = means_diff(a,b)"
   ]
  },
  {
   "cell_type": "code",
   "execution_count": 212,
   "metadata": {},
   "outputs": [
    {
     "name": "stdout",
     "output_type": "stream",
     "text": [
      "The p-value  for the test-statistic of 33.51 is 0.000\n"
     ]
    }
   ],
   "source": [
    "p = np.sum(replicates >= empirical)/len(replicates)\n",
    "print(f'The p-value  for the test-statistic of {empirical:.2f} is {p:.3f}')"
   ]
  },
  {
   "cell_type": "code",
   "execution_count": 213,
   "metadata": {},
   "outputs": [
    {
     "name": "stdout",
     "output_type": "stream",
     "text": [
      "Confidence interval is [-4.389    4.45505]\n"
     ]
    }
   ],
   "source": [
    "confidence_interval = np.percentile(replicates,[2.5,97.5])\n",
    "print(f'Confidence interval is {confidence_interval}')"
   ]
  },
  {
   "cell_type": "code",
   "execution_count": 214,
   "metadata": {},
   "outputs": [
    {
     "data": {
      "image/png": "[encoded data removed]",
      "text/plain": [
       "<Figure size 432x288 with 1 Axes>"
      ]
     },
     "metadata": {
      "needs_background": "light"
     },
     "output_type": "display_data"
    }
   ],
   "source": [
    "ax = sns.distplot(replicates, color = palette[0])\n",
    "ax.axvline(confidence_interval[0],color = 'green')\n",
    "ax.axvline(confidence_interval[0],color = 'green')\n",
    "ax.axvline(confidence_interval[1],color = 'green')\n",
    "ax.axvspan(confidence_interval[0],confidence_interval[1], color='green', alpha=0.1)\n",
    "ax = sns.scatterplot(x=np.array([empirical]),y=0.020, s=100)\n"
   ]
  },
  {
   "cell_type": "code",
   "execution_count": null,
   "metadata": {},
   "outputs": [],
   "source": []
  }
 ],
 "metadata": {
  "kernelspec": {
   "display_name": "Python 3",
   "language": "python",
   "name": "python3"
  },
  "language_info": {
   "codemirror_mode": {
    "name": "ipython",
    "version": 3
   },
   "file_extension": ".py",
   "mimetype": "text/x-python",
   "name": "python",
   "nbconvert_exporter": "python",
   "pygments_lexer": "ipython3",
   "version": "3.8.5"
  }
 },
 "nbformat": 4,
 "nbformat_minor": 4
}
